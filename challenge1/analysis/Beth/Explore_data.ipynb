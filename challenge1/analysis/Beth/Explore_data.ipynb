{
 "cells": [
  {
   "cell_type": "code",
   "execution_count": 186,
   "metadata": {
    "collapsed": false
   },
   "outputs": [],
   "source": [
    "import numpy as np\n",
    "import pandas as pd\n",
    "import sklearn as sk\n",
    "from datetime import datetime\n",
    "from statsmodels.tsa.seasonal import seasonal_decompose\n",
    "from statsmodels.tsa.stattools import acf, pacf\n",
    "from statsmodels.tsa.arima_model import ARIMA\n",
    "import matplotlib.pyplot as pl\n",
    "%matplotlib inline"
   ]
  },
  {
   "cell_type": "code",
   "execution_count": 106,
   "metadata": {
    "collapsed": true
   },
   "outputs": [],
   "source": [
    "df_train=pd.read_csv('../../data/training_dataset_500.csv')\n",
    "df_test=pd.read_csv('../../data/test_dataset_500.csv')\n",
    "df_data=pd.read_csv('../../data/dataset_500.csv')"
   ]
  },
  {
   "cell_type": "code",
   "execution_count": 162,
   "metadata": {
    "collapsed": false
   },
   "outputs": [],
   "source": [
    "# Add an arbitrary day column for DateTime format\n",
    "df_train['Day']=int(1)"
   ]
  },
  {
   "cell_type": "code",
   "execution_count": 108,
   "metadata": {
    "collapsed": false
   },
   "outputs": [],
   "source": [
    "# Make new column containing the date (in Datetime format) by combining month and year columns\n",
    "df_train['Date'] = df_train.apply(lambda x: datetime(int(x['Year']), int(x['Month']), int(x['Day'])),axis=1)"
   ]
  },
  {
   "cell_type": "code",
   "execution_count": 110,
   "metadata": {
    "collapsed": false,
    "scrolled": true
   },
   "outputs": [
    {
     "data": {
      "text/html": [
       "<div>\n",
       "<table border=\"1\" class=\"dataframe\">\n",
       "  <thead>\n",
       "    <tr style=\"text-align: right;\">\n",
       "      <th></th>\n",
       "      <th>ID</th>\n",
       "      <th>Label</th>\n",
       "      <th>House</th>\n",
       "      <th>Year</th>\n",
       "      <th>Month</th>\n",
       "      <th>Temperature</th>\n",
       "      <th>Daylight</th>\n",
       "      <th>EnergyProduction</th>\n",
       "      <th>Day</th>\n",
       "      <th>Date</th>\n",
       "    </tr>\n",
       "  </thead>\n",
       "  <tbody>\n",
       "    <tr>\n",
       "      <th>0</th>\n",
       "      <td>0</td>\n",
       "      <td>0</td>\n",
       "      <td>1</td>\n",
       "      <td>2011</td>\n",
       "      <td>7</td>\n",
       "      <td>26.2</td>\n",
       "      <td>178.9</td>\n",
       "      <td>740</td>\n",
       "      <td>1</td>\n",
       "      <td>2011-07-01</td>\n",
       "    </tr>\n",
       "    <tr>\n",
       "      <th>1</th>\n",
       "      <td>1</td>\n",
       "      <td>1</td>\n",
       "      <td>1</td>\n",
       "      <td>2011</td>\n",
       "      <td>8</td>\n",
       "      <td>25.8</td>\n",
       "      <td>169.7</td>\n",
       "      <td>731</td>\n",
       "      <td>1</td>\n",
       "      <td>2011-08-01</td>\n",
       "    </tr>\n",
       "    <tr>\n",
       "      <th>2</th>\n",
       "      <td>2</td>\n",
       "      <td>2</td>\n",
       "      <td>1</td>\n",
       "      <td>2011</td>\n",
       "      <td>9</td>\n",
       "      <td>22.8</td>\n",
       "      <td>170.2</td>\n",
       "      <td>694</td>\n",
       "      <td>1</td>\n",
       "      <td>2011-09-01</td>\n",
       "    </tr>\n",
       "    <tr>\n",
       "      <th>3</th>\n",
       "      <td>3</td>\n",
       "      <td>3</td>\n",
       "      <td>1</td>\n",
       "      <td>2011</td>\n",
       "      <td>10</td>\n",
       "      <td>16.4</td>\n",
       "      <td>169.1</td>\n",
       "      <td>688</td>\n",
       "      <td>1</td>\n",
       "      <td>2011-10-01</td>\n",
       "    </tr>\n",
       "    <tr>\n",
       "      <th>4</th>\n",
       "      <td>4</td>\n",
       "      <td>4</td>\n",
       "      <td>1</td>\n",
       "      <td>2011</td>\n",
       "      <td>11</td>\n",
       "      <td>11.4</td>\n",
       "      <td>169.1</td>\n",
       "      <td>650</td>\n",
       "      <td>1</td>\n",
       "      <td>2011-11-01</td>\n",
       "    </tr>\n",
       "  </tbody>\n",
       "</table>\n",
       "</div>"
      ],
      "text/plain": [
       "   ID  Label  House  Year  Month  Temperature  Daylight  EnergyProduction  \\\n",
       "0   0      0      1  2011      7         26.2     178.9               740   \n",
       "1   1      1      1  2011      8         25.8     169.7               731   \n",
       "2   2      2      1  2011      9         22.8     170.2               694   \n",
       "3   3      3      1  2011     10         16.4     169.1               688   \n",
       "4   4      4      1  2011     11         11.4     169.1               650   \n",
       "\n",
       "   Day       Date  \n",
       "0    1 2011-07-01  \n",
       "1    1 2011-08-01  \n",
       "2    1 2011-09-01  \n",
       "3    1 2011-10-01  \n",
       "4    1 2011-11-01  "
      ]
     },
     "execution_count": 110,
     "metadata": {},
     "output_type": "execute_result"
    }
   ],
   "source": [
    "df_train.set_index('ID')\n",
    "df_train.head(5)\n"
   ]
  },
  {
   "cell_type": "code",
   "execution_count": 111,
   "metadata": {
    "collapsed": false
   },
   "outputs": [
    {
     "data": {
      "text/plain": [
       "Int64Index([    0,     1,     2,     3,     4,     5,     6,     7,     8,\n",
       "                9,\n",
       "            ...\n",
       "            11490, 11491, 11492, 11493, 11494, 11495, 11496, 11497, 11498,\n",
       "            11499],\n",
       "           dtype='int64', length=11500)"
      ]
     },
     "execution_count": 111,
     "metadata": {},
     "output_type": "execute_result"
    }
   ],
   "source": [
    "df_train.index"
   ]
  },
  {
   "cell_type": "code",
   "execution_count": 115,
   "metadata": {
    "collapsed": true
   },
   "outputs": [],
   "source": [
    "# Get average from all houses for each date\n",
    "df_train_total=df_train.groupby('Date').mean()"
   ]
  },
  {
   "cell_type": "code",
   "execution_count": 116,
   "metadata": {
    "collapsed": false
   },
   "outputs": [
    {
     "data": {
      "text/html": [
       "<div>\n",
       "<table border=\"1\" class=\"dataframe\">\n",
       "  <thead>\n",
       "    <tr style=\"text-align: right;\">\n",
       "      <th></th>\n",
       "      <th>ID</th>\n",
       "      <th>Label</th>\n",
       "      <th>House</th>\n",
       "      <th>Year</th>\n",
       "      <th>Month</th>\n",
       "      <th>Temperature</th>\n",
       "      <th>Daylight</th>\n",
       "      <th>EnergyProduction</th>\n",
       "      <th>Day</th>\n",
       "    </tr>\n",
       "    <tr>\n",
       "      <th>Date</th>\n",
       "      <th></th>\n",
       "      <th></th>\n",
       "      <th></th>\n",
       "      <th></th>\n",
       "      <th></th>\n",
       "      <th></th>\n",
       "      <th></th>\n",
       "      <th></th>\n",
       "      <th></th>\n",
       "    </tr>\n",
       "  </thead>\n",
       "  <tbody>\n",
       "    <tr>\n",
       "      <th>2011-07-01</th>\n",
       "      <td>5988</td>\n",
       "      <td>0</td>\n",
       "      <td>250.5</td>\n",
       "      <td>2011</td>\n",
       "      <td>7</td>\n",
       "      <td>26.3674</td>\n",
       "      <td>180.3912</td>\n",
       "      <td>630.064</td>\n",
       "      <td>1</td>\n",
       "    </tr>\n",
       "    <tr>\n",
       "      <th>2011-08-01</th>\n",
       "      <td>5989</td>\n",
       "      <td>1</td>\n",
       "      <td>250.5</td>\n",
       "      <td>2011</td>\n",
       "      <td>8</td>\n",
       "      <td>26.2242</td>\n",
       "      <td>169.5284</td>\n",
       "      <td>598.552</td>\n",
       "      <td>1</td>\n",
       "    </tr>\n",
       "    <tr>\n",
       "      <th>2011-09-01</th>\n",
       "      <td>5990</td>\n",
       "      <td>2</td>\n",
       "      <td>250.5</td>\n",
       "      <td>2011</td>\n",
       "      <td>9</td>\n",
       "      <td>23.4076</td>\n",
       "      <td>172.6860</td>\n",
       "      <td>574.912</td>\n",
       "      <td>1</td>\n",
       "    </tr>\n",
       "    <tr>\n",
       "      <th>2011-10-01</th>\n",
       "      <td>5991</td>\n",
       "      <td>3</td>\n",
       "      <td>250.5</td>\n",
       "      <td>2011</td>\n",
       "      <td>10</td>\n",
       "      <td>17.1112</td>\n",
       "      <td>156.8640</td>\n",
       "      <td>529.460</td>\n",
       "      <td>1</td>\n",
       "    </tr>\n",
       "    <tr>\n",
       "      <th>2011-11-01</th>\n",
       "      <td>5992</td>\n",
       "      <td>4</td>\n",
       "      <td>250.5</td>\n",
       "      <td>2011</td>\n",
       "      <td>11</td>\n",
       "      <td>12.1032</td>\n",
       "      <td>162.5342</td>\n",
       "      <td>495.008</td>\n",
       "      <td>1</td>\n",
       "    </tr>\n",
       "  </tbody>\n",
       "</table>\n",
       "</div>"
      ],
      "text/plain": [
       "              ID  Label  House  Year  Month  Temperature  Daylight  \\\n",
       "Date                                                                 \n",
       "2011-07-01  5988      0  250.5  2011      7      26.3674  180.3912   \n",
       "2011-08-01  5989      1  250.5  2011      8      26.2242  169.5284   \n",
       "2011-09-01  5990      2  250.5  2011      9      23.4076  172.6860   \n",
       "2011-10-01  5991      3  250.5  2011     10      17.1112  156.8640   \n",
       "2011-11-01  5992      4  250.5  2011     11      12.1032  162.5342   \n",
       "\n",
       "            EnergyProduction  Day  \n",
       "Date                               \n",
       "2011-07-01           630.064    1  \n",
       "2011-08-01           598.552    1  \n",
       "2011-09-01           574.912    1  \n",
       "2011-10-01           529.460    1  \n",
       "2011-11-01           495.008    1  "
      ]
     },
     "execution_count": 116,
     "metadata": {},
     "output_type": "execute_result"
    }
   ],
   "source": [
    "df_train_total.head(5)"
   ]
  },
  {
   "cell_type": "code",
   "execution_count": 124,
   "metadata": {
    "collapsed": false
   },
   "outputs": [],
   "source": []
  },
  {
   "cell_type": "code",
   "execution_count": 125,
   "metadata": {
    "collapsed": false
   },
   "outputs": [
    {
     "data": {
      "text/html": [
       "<div>\n",
       "<table border=\"1\" class=\"dataframe\">\n",
       "  <thead>\n",
       "    <tr style=\"text-align: right;\">\n",
       "      <th></th>\n",
       "      <th>Temperature</th>\n",
       "      <th>Daylight</th>\n",
       "      <th>EnergyProduction</th>\n",
       "    </tr>\n",
       "    <tr>\n",
       "      <th>Date</th>\n",
       "      <th></th>\n",
       "      <th></th>\n",
       "      <th></th>\n",
       "    </tr>\n",
       "  </thead>\n",
       "  <tbody>\n",
       "    <tr>\n",
       "      <th>2011-07-01</th>\n",
       "      <td>26.3674</td>\n",
       "      <td>180.3912</td>\n",
       "      <td>630.064</td>\n",
       "    </tr>\n",
       "    <tr>\n",
       "      <th>2011-08-01</th>\n",
       "      <td>26.2242</td>\n",
       "      <td>169.5284</td>\n",
       "      <td>598.552</td>\n",
       "    </tr>\n",
       "    <tr>\n",
       "      <th>2011-09-01</th>\n",
       "      <td>23.4076</td>\n",
       "      <td>172.6860</td>\n",
       "      <td>574.912</td>\n",
       "    </tr>\n",
       "    <tr>\n",
       "      <th>2011-10-01</th>\n",
       "      <td>17.1112</td>\n",
       "      <td>156.8640</td>\n",
       "      <td>529.460</td>\n",
       "    </tr>\n",
       "    <tr>\n",
       "      <th>2011-11-01</th>\n",
       "      <td>12.1032</td>\n",
       "      <td>162.5342</td>\n",
       "      <td>495.008</td>\n",
       "    </tr>\n",
       "  </tbody>\n",
       "</table>\n",
       "</div>"
      ],
      "text/plain": [
       "            Temperature  Daylight  EnergyProduction\n",
       "Date                                               \n",
       "2011-07-01      26.3674  180.3912           630.064\n",
       "2011-08-01      26.2242  169.5284           598.552\n",
       "2011-09-01      23.4076  172.6860           574.912\n",
       "2011-10-01      17.1112  156.8640           529.460\n",
       "2011-11-01      12.1032  162.5342           495.008"
      ]
     },
     "execution_count": 125,
     "metadata": {},
     "output_type": "execute_result"
    }
   ],
   "source": [
    "df_train_total.head()"
   ]
  },
  {
   "cell_type": "code",
   "execution_count": 129,
   "metadata": {
    "collapsed": true
   },
   "outputs": [],
   "source": [
    "# Extract output and potantial correlating columns\n",
    "df_energy=df_train_total['EnergyProduction']\n",
    "df_temp=df_train_total['Temperature']\n",
    "df_daylight=df_train_total['Daylight']"
   ]
  },
  {
   "cell_type": "code",
   "execution_count": 134,
   "metadata": {
    "collapsed": false
   },
   "outputs": [
    {
     "data": {
      "text/plain": [
       "(array([ 734319.,  734381.,  734442.,  734503.,  734563.,  734624.,\n",
       "         734685.,  734747.,  734808.,  734869.,  734928.,  734989.]),\n",
       " <a list of 12 Text xticklabel objects>)"
      ]
     },
     "execution_count": 134,
     "metadata": {},
     "output_type": "execute_result"
    },
    {
     "data": {
      "image/png": "[encoded data removed]",
      "text/plain": [
       "<matplotlib.figure.Figure at 0x11fb24e90>"
      ]
     },
     "metadata": {},
     "output_type": "display_data"
    }
   ],
   "source": [
    "# Plot normalised average parameters to visually inspect\n",
    "pl.plot(df_energy/np.max(df_energy))\n",
    "pl.plot(df_temp/np.max(df_temp),color=\"r\")\n",
    "pl.plot(df_daylight/np.max(df_daylight),color=\"g\")\n",
    "pl.xticks(rotation=90)\n"
   ]
  },
  {
   "cell_type": "code",
   "execution_count": 139,
   "metadata": {
    "collapsed": false
   },
   "outputs": [],
   "source": [
    "# Take the log to anaylse and remove seasonality (to make stationary)\n",
    "energy_log=np.log(df_energy)"
   ]
  },
  {
   "cell_type": "code",
   "execution_count": null,
   "metadata": {
    "collapsed": false
   },
   "outputs": [],
   "source": []
  },
  {
   "cell_type": "code",
   "execution_count": 142,
   "metadata": {
    "collapsed": false
   },
   "outputs": [],
   "source": [
    "# Decompose into seasonal and residual parts\n",
    "decomposition=seasonal_decompose(energy_log)"
   ]
  },
  {
   "cell_type": "code",
   "execution_count": 161,
   "metadata": {
    "collapsed": false
   },
   "outputs": [
    {
     "data": {
      "text/plain": [
       "Date\n",
       "2011-07-01   NaN\n",
       "2011-08-01   NaN\n",
       "2011-09-01   NaN\n",
       "2011-10-01   NaN\n",
       "2011-11-01   NaN\n",
       "2011-12-01   NaN\n",
       "2012-01-01   NaN\n",
       "2012-02-01   NaN\n",
       "2012-03-01   NaN\n",
       "2012-04-01   NaN\n",
       "2012-05-01   NaN\n",
       "2012-06-01   NaN\n",
       "2012-07-01   NaN\n",
       "2012-08-01   NaN\n",
       "2012-09-01   NaN\n",
       "2012-10-01   NaN\n",
       "2012-11-01   NaN\n",
       "2012-12-01   NaN\n",
       "2013-01-01   NaN\n",
       "2013-02-01   NaN\n",
       "2013-03-01   NaN\n",
       "2013-04-01   NaN\n",
       "2013-05-01   NaN\n",
       "Name: EnergyProduction, dtype: float64"
      ]
     },
     "execution_count": 161,
     "metadata": {},
     "output_type": "execute_result"
    }
   ],
   "source": [
    "seasonal=decomposition.seasonal\n",
    "residual=decomposition.resid\n",
    "\n",
    "seasonal # All NaN (not enough data?) "
   ]
  },
  {
   "cell_type": "code",
   "execution_count": 158,
   "metadata": {
    "collapsed": false
   },
   "outputs": [
    {
     "data": {
      "text/plain": [
       "Date\n",
       "2011-07-01    6.445821\n",
       "2011-08-01    6.394513\n",
       "2011-09-01    6.354217\n",
       "2011-10-01    6.271858\n",
       "2011-11-01    6.204574\n",
       "2011-12-01    6.351078\n",
       "2012-01-01    6.394670\n",
       "2012-02-01    6.301068\n",
       "2012-03-01    6.390871\n",
       "2012-04-01    6.469700\n",
       "2012-05-01    6.567117\n",
       "2012-06-01    6.413492\n",
       "2012-07-01    6.497104\n",
       "2012-08-01    6.687403\n",
       "2012-09-01    6.401327\n",
       "2012-10-01    6.370757\n",
       "2012-11-01    6.172243\n",
       "2012-12-01    6.135890\n",
       "2013-01-01    6.362424\n",
       "2013-02-01    6.350771\n",
       "2013-03-01    6.533161\n",
       "2013-04-01    6.584623\n",
       "2013-05-01    6.718141\n",
       "Name: EnergyProduction, dtype: float64"
      ]
     },
     "execution_count": 158,
     "metadata": {},
     "output_type": "execute_result"
    }
   ],
   "source": [
    "energy_log"
   ]
  },
  {
   "cell_type": "code",
   "execution_count": null,
   "metadata": {
    "collapsed": false
   },
   "outputs": [],
   "source": [
    "# Try Auto-Regressive Integrated Moving Averages"
   ]
  },
  {
   "cell_type": "code",
   "execution_count": 183,
   "metadata": {
    "collapsed": false
   },
   "outputs": [],
   "source": [
    "energy_diff=df_energy-df_energy.shift()"
   ]
  },
  {
   "cell_type": "code",
   "execution_count": 165,
   "metadata": {
    "collapsed": false
   },
   "outputs": [],
   "source": [
    "# Determine p and q values for ARIMA from acf and pcf"
   ]
  },
  {
   "cell_type": "code",
   "execution_count": 184,
   "metadata": {
    "collapsed": false
   },
   "outputs": [],
   "source": [
    "lag_acf=acf(energy_diff,nlags=12)\n",
    "#lag_pcf=pacf(energy_log_diff,nlags=3,method='ols')"
   ]
  },
  {
   "cell_type": "code",
   "execution_count": null,
   "metadata": {
    "collapsed": false
   },
   "outputs": [],
   "source": []
  },
  {
   "cell_type": "code",
   "execution_count": null,
   "metadata": {
    "collapsed": true
   },
   "outputs": [],
   "source": []
  }
 ],
 "metadata": {
  "kernelspec": {
   "display_name": "Python 2",
   "language": "python",
   "name": "python2"
  },
  "language_info": {
   "codemirror_mode": {
    "name": "ipython",
    "version": 2
   },
   "file_extension": ".py",
   "mimetype": "text/x-python",
   "name": "python",
   "nbconvert_exporter": "python",
   "pygments_lexer": "ipython2",
   "version": "2.7.12"
  }
 },
 "nbformat": 4,
 "nbformat_minor": 0
}
